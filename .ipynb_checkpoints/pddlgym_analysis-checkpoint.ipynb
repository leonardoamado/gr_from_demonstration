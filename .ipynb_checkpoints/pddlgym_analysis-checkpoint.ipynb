{
 "cells": [
  {
   "cell_type": "markdown",
   "id": "f450ab3f",
   "metadata": {},
   "source": [
    "# Analysis of PDDLGym (and some random thoughts)\n",
    "\n",
    "This notebook is made with the objective of testing how PDDLGym works, and what features could be useful to train an RL algorithm to either recognize goals or learn planning model."
   ]
  },
  {
   "cell_type": "code",
   "execution_count": 2,
   "id": "79c46daf",
   "metadata": {},
   "outputs": [],
   "source": [
    "import pddlgym\n",
    "from pddlgym_planners.ff import FF"
   ]
  },
  {
   "cell_type": "code",
   "execution_count": 29,
   "id": "d7c5aeb6",
   "metadata": {},
   "outputs": [],
   "source": [
    "env = pddlgym.make(\"PDDLEnvBlocks-v0\")\n",
    "env.fix_problem_index(0) # fixes what problem will be used when the env is reset.\n",
    "obs, debug_info = env.reset()\n",
    "obss = [obs]"
   ]
  },
  {
   "cell_type": "code",
   "execution_count": 30,
   "id": "d574dc53",
   "metadata": {},
   "outputs": [
    {
     "name": "stdout",
     "output_type": "stream",
     "text": [
      "Instantiating FF\n"
     ]
    }
   ],
   "source": [
    "planner = FF()"
   ]
  },
  {
   "cell_type": "code",
   "execution_count": 31,
   "id": "e7f127df",
   "metadata": {
    "scrolled": true
   },
   "outputs": [
    {
     "data": {
      "text/plain": [
       "[pickup(b:block),\n",
       " stack(b:block,a:block),\n",
       " pickup(c:block),\n",
       " stack(c:block,b:block),\n",
       " pickup(d:block),\n",
       " stack(d:block,c:block)]"
      ]
     },
     "execution_count": 31,
     "metadata": {},
     "output_type": "execute_result"
    }
   ],
   "source": [
    "plan = planner(env.domain, obs)\n",
    "plan"
   ]
  },
  {
   "cell_type": "code",
   "execution_count": 32,
   "id": "ff48e507",
   "metadata": {},
   "outputs": [],
   "source": [
    "for action in plan:\n",
    "    obs, reward, done, info = env.step(action)\n",
    "    obss.append(obs)"
   ]
  },
  {
   "cell_type": "code",
   "execution_count": 40,
   "id": "ab6e84a0",
   "metadata": {
    "scrolled": true
   },
   "outputs": [
    {
     "data": {
      "text/plain": [
       "(frozenset({clear(a:block),\n",
       "            clear(b:block),\n",
       "            clear(c:block),\n",
       "            clear(d:block),\n",
       "            handempty(robot:robot),\n",
       "            ontable(a:block),\n",
       "            ontable(b:block),\n",
       "            ontable(c:block),\n",
       "            ontable(d:block)}),\n",
       " AND[on(d:block,c:block), on(c:block,b:block), on(b:block,a:block)],\n",
       " frozenset({a:block, b:block, c:block, d:block, robot:robot}))"
      ]
     },
     "execution_count": 40,
     "metadata": {},
     "output_type": "execute_result"
    }
   ],
   "source": [
    "obss[0].literals, obss[0].goal, obss[0].objects"
   ]
  },
  {
   "cell_type": "markdown",
   "id": "fb83e49b",
   "metadata": {},
   "source": [
    "PDDLGym does not seem to have natively problem definitions with different goals. We can "
   ]
  }
 ],
 "metadata": {
  "kernelspec": {
   "display_name": "Python [conda env:pddl_gym_3.8] *",
   "language": "python",
   "name": "conda-env-pddl_gym_3.8-py"
  },
  "language_info": {
   "codemirror_mode": {
    "name": "ipython",
    "version": 3
   },
   "file_extension": ".py",
   "mimetype": "text/x-python",
   "name": "python",
   "nbconvert_exporter": "python",
   "pygments_lexer": "ipython3",
   "version": "3.8.8"
  }
 },
 "nbformat": 4,
 "nbformat_minor": 5
}
